{
  "nbformat": 4,
  "nbformat_minor": 0,
  "metadata": {
    "colab": {
      "name": "Spelling Correction.ipynb",
      "provenance": [],
      "collapsed_sections": [],
      "authorship_tag": "ABX9TyOAZzaZjRYFD9O2e3DwVWW6",
      "include_colab_link": true
    },
    "kernelspec": {
      "name": "python3",
      "display_name": "Python 3"
    },
    "language_info": {
      "name": "python"
    }
  },
  "cells": [
    {
      "cell_type": "markdown",
      "metadata": {
        "id": "view-in-github",
        "colab_type": "text"
      },
      "source": [
        "<a href=\"https://colab.research.google.com/github/Kunald199/Spelling-Correction-Python/blob/main/Spelling_Correction.ipynb\" target=\"_parent\"><img src=\"https://colab.research.google.com/assets/colab-badge.svg\" alt=\"Open In Colab\"/></a>"
      ]
    },
    {
      "cell_type": "markdown",
      "metadata": {
        "id": "WU02Tu8_N_8o"
      },
      "source": [
        "**Spelling Correction Using Python**"
      ]
    },
    {
      "cell_type": "code",
      "metadata": {
        "id": "f8viCz7EMZ8c"
      },
      "source": [
        "from textblob import TextBlob\n"
      ],
      "execution_count": 9,
      "outputs": []
    },
    {
      "cell_type": "code",
      "metadata": {
        "colab": {
          "base_uri": "https://localhost:8080/"
        },
        "id": "GYyOBOf7Mkao",
        "outputId": "3d115b29-688c-4a96-e947-92435e5ac109"
      },
      "source": [
        "enter=input(\"Enter your words\")\n",
        "Incorrect_words=[]\n",
        "Incorrect_words=enter.split()\n",
        "print(\" Your Entered String \",Incorrect_words)\n",
        "\n",
        "corrected_words = []\n",
        "for i in Incorrect_words:\n",
        "    corrected_words.append(TextBlob(i))\n",
        "\n",
        "print(\"Corrected Words are :\")\n",
        "for i in corrected_words:\n",
        "    print(i.correct(), end=\" \")"
      ],
      "execution_count": 10,
      "outputs": [
        {
          "output_type": "stream",
          "text": [
            "Enter your wordsI amm here to juump and dnace\n",
            " Your Entered String  ['I', 'amm', 'here', 'to', 'juump', 'and', 'dnace']\n",
            "Corrected Words are :\n",
            "I am here to jump and dance "
          ],
          "name": "stdout"
        }
      ]
    }
  ]
}